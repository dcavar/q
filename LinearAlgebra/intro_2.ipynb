{
 "cells": [
  {
   "cell_type": "markdown",
   "metadata": {},
   "source": [
    "# Quantum Computation Primer for QC Intro 2\n",
    "\n",
    "&copy; 2024 by [Damir Cavar](http://damir.cavar.me/)\n",
    "\n",
    "**Sources:**\n",
    "\n",
    "- [Quantum Computation Primer - Part 2](https://www.codeproject.com/Articles/5160469/Quantum-Computation-Primer-Part-2)\n",
    "\n",
    "Focusing on Quantum Gates.\n",
    "\n",
    "Implementation of algorithms:\n",
    "\n",
    "- as a Quantum Circuit consisting of input and output qubits with gates altering the quantum states of the qubits\n",
    "- one-qubit gates and multi-qubit gates\n",
    "- when a qubit is measured its state collapses to one of the basis states $|0\\rangle$ or $|1\\rangle$\n",
    "- the collapsed qubit could be thought of as a classical bit\n",
    "\n",
    "![Example circuit](./CircuitExample.png)"
   ]
  },
  {
   "cell_type": "markdown",
   "metadata": {},
   "source": [
    "Representation of Quantum Gates:\n",
    "\n",
    "- Unitary Matrix\n",
    "- A matrix is unitary if its conjugate transpose is also its inverse: $U^\\intercal U = I$ that is: multiply a unitary matrix by its conjugate transpose results the identity matrix\n",
    "\n",
    "$I_3 = \\begin{bmatrix}\n",
    "    1 & 0 & 0 \\\\ \n",
    "    0 & 1 & 0 \\\\\n",
    "    0 & 0 & 1 \n",
    " \\end{bmatrix}\n",
    " $\n",
    "\n",
    "The subscript *3* denotes the dimensionality of the matrix.\n",
    "\n",
    "Multiplying matices by their invers results in an identity matrix.\n",
    "\n",
    "**Important feature:**\n",
    "\n",
    "Multiplying a matrix by a unitary matrix preserves the norm.\n",
    "\n",
    "That is:\n",
    "\n",
    "- when a unitary matrix is applied to a quantum state, the sum of the probabilities remains equal to 1\n",
    "- the state stays on the surface of the Block sphere\n",
    "- the norm is the length of the vector from the center of the sphere\n",
    "\n",
    "The dimensions of the matrix representing a gate is equal to $2^n \\times 2^n$, where $n$ is the number of inputs.\n",
    "\n",
    "For quantum gates, the number of inputs always equals the number of outputs.\n"
   ]
  },
  {
   "cell_type": "markdown",
   "metadata": {},
   "source": [
    "## Gate Reversibility\n",
    "\n",
    "Unlike gates in classical computing, quantum gates have to be reversible.\n",
    "\n",
    "As [Gidney (2016)](https://physics.stackexchange.com/questions/270266/why-do-quantum-gates-have-to-be-reversible) states, quantum gates must be reversible because quantum mechanics is reversible.\n",
    "\n",
    "While classical computers are able to discard accumulated information during processing, doing so in a quantum computer would count as a measurement; collapsing the quantum state.\n",
    "\n",
    "To maintain the consistency of a superposition, the sum of all probabilities across all states must equal 1. No information can be lost when applying a gate.\n",
    "\n",
    "Now, because the matrices representing gates are unitary, they are reversible. If you apply a gate $U$ to a state $|\\psi\\rangle$, you can undo it by applying $U$'s conjugate transform, which is its inverse, as shown:\n",
    "\n",
    "$U^\\intercal U|\\psi\\rangle=|\\psi\\rangle$\n",
    "\n",
    "If we multiply a unitary matrix by its conjugate transform, the result is the identity matrix; effectively leaving the state unchanged.\n",
    "\n",
    "**Compare quantum gates to classical gates:**\n",
    "\n",
    "Gates like the classical AND and OR gates aren't as easy to implement in quantum computing since they are **irreversible**.\n",
    "\n",
    "- two inputs and only one output\n",
    "- reconstructing the initial input bits from the output is not possible\n",
    "- information is lost\n",
    "\n",
    "![AND OR Gates](./AndOrGates.png)\n",
    "\n",
    "To make these gates reversible (and implement them as Quantum AND or OR gates) we can use the Controlled Swap Gate.\n",
    "\n",
    "Reversible classical gates, as for example the NOT gate, can be easily implemented as quantum gates. In the NOT gate no information is lost. The input can be infered from the output.\n",
    "\n",
    "![NOT Gate](./NotGate.png)\n"
   ]
  },
  {
   "cell_type": "markdown",
   "metadata": {},
   "source": [
    "## Measuring Qubits\n",
    "\n",
    "So far:\n",
    "\n",
    "- measuring a qubit state collapses the qubit's state to one of its basis states $|0\\rangle$ or $|1\\rangle$\n",
    "- Quantum gates must be reversible\n",
    "\n",
    "Measuring a qubit is technicall not a gate (but might be called a Measurement gate). It is an irreversible activity.\n",
    "\n",
    "Measuring results in a classical bit, indicated by the double line:\n",
    "\n",
    "![Measurement](./Measurement.png)\n"
   ]
  },
  {
   "cell_type": "markdown",
   "metadata": {},
   "source": [
    "# Implementing a NOT gate with the Pauli-X gate\n",
    "\n",
    "Matrix representation of the Pauli-X gate or NOT gate:\n",
    "\n",
    "$X = \\begin{bmatrix}\n",
    "    0 & 1 \\\\ \n",
    "    1 & 0  \n",
    " \\end{bmatrix}\n",
    " $\n",
    "\n",
    "Flipping the basis states with the Pauli-X gate:\n",
    "\n",
    "$X|0\\rangle = \\begin{bmatrix}\n",
    "    0 & 1 \\\\ \n",
    "    1 & 0  \n",
    " \\end{bmatrix}\n",
    " \\begin{bmatrix}\n",
    "    1 \\\\ \n",
    "    0   \n",
    " \\end{bmatrix} =\n",
    "  \\begin{bmatrix}\n",
    "    0 \\\\ \n",
    "    1   \n",
    " \\end{bmatrix} = |1\\rangle \n",
    " $\n",
    "\n",
    "$X|1\\rangle = \\begin{bmatrix}\n",
    "    0 & 1 \\\\ \n",
    "    1 & 0  \n",
    " \\end{bmatrix}\n",
    " \\begin{bmatrix}\n",
    "    0 \\\\ \n",
    "    1   \n",
    " \\end{bmatrix} =\n",
    "  \\begin{bmatrix}\n",
    "    1 \\\\ \n",
    "    0   \n",
    " \\end{bmatrix} = |0\\rangle \n",
    " $\n",
    "\n",
    "The Pauli-X gate rotates a qubit on the Bloch sphere around the x-axis by $\\pi$ radians (180°).\n",
    "\n",
    "The Pauli-X gate quantum circuit symbol is  ![PauliXGate](./PauliXGate.png)"
   ]
  },
  {
   "cell_type": "code",
   "execution_count": 1,
   "metadata": {},
   "outputs": [],
   "source": [
    "import numpy as np"
   ]
  },
  {
   "cell_type": "code",
   "execution_count": 2,
   "metadata": {},
   "outputs": [
    {
     "name": "stdout",
     "output_type": "stream",
     "text": [
      "Matrix X:\n",
      " [[0 1]\n",
      " [1 0]]\n"
     ]
    }
   ],
   "source": [
    "X = np.array([[0, 1], [1, 0]])\n",
    "print(\"Matrix X:\\n\", X)"
   ]
  },
  {
   "cell_type": "code",
   "execution_count": 3,
   "metadata": {},
   "outputs": [
    {
     "name": "stdout",
     "output_type": "stream",
     "text": [
      "Matrix B:\n",
      " [[1]\n",
      " [0]]\n"
     ]
    }
   ],
   "source": [
    "B = np.array([[1], [0]])\n",
    "print(\"Matrix B:\\n\", B)"
   ]
  },
  {
   "cell_type": "code",
   "execution_count": 4,
   "metadata": {},
   "outputs": [
    {
     "data": {
      "text/plain": [
       "array([[0],\n",
       "       [1]])"
      ]
     },
     "execution_count": 4,
     "metadata": {},
     "output_type": "execute_result"
    }
   ],
   "source": [
    "X @ B"
   ]
  },
  {
   "cell_type": "markdown",
   "metadata": {},
   "source": [
    "## Hadamard Gate for a 50/50 Superposition\n",
    "\n",
    "Given the basis states:\n",
    "\n",
    "- $|0\\rangle$\n",
    "- $|1\\rangle$\n",
    "\n",
    "The goal is to transform those into one of the following states:\n",
    "\n",
    "- $|+\\rangle = \\frac{|0\\rangle + |1\\rangle}{\\sqrt{2}}$\n",
    "- $|-\\rangle = \\frac{|0\\rangle - |1\\rangle}{\\sqrt{2}}$\n",
    "\n",
    "Note:\n",
    "\n",
    "- the $+$ and $-$ correspond to the sign of the amplitude of the $|1\\rangle$ state\n",
    "\n",
    "**Hadamard Gate**\n",
    "\n",
    "$\n",
    "\\frac{1}{\\sqrt{2}}\n",
    "\\begin{bmatrix}\n",
    "    1 & 1 \\\\ \n",
    "    1 & -1  \n",
    " \\end{bmatrix}\n",
    "$\n",
    "\n",
    "Applying it to $|0\\rangle$:\n",
    "\n",
    "$H|0\\rangle = \\frac{1}{\\sqrt{2}}\n",
    "\\begin{bmatrix}\n",
    "    1 & 1 \\\\ \n",
    "    1 & -1  \n",
    " \\end{bmatrix}\n",
    "\\begin{bmatrix}\n",
    "    1  \\\\ \n",
    "    0   \n",
    " \\end{bmatrix}\n",
    "= \\frac{1}{\\sqrt{2}}\n",
    "\\begin{bmatrix}\n",
    "    1  \\\\ \n",
    "    1   \n",
    " \\end{bmatrix}\n",
    "= \\frac{1}{\\sqrt{2}} \\left(\n",
    "\\begin{bmatrix}\n",
    "    1  \\\\ \n",
    "    0   \n",
    " \\end{bmatrix}\n",
    " + \n",
    " \\begin{bmatrix}\n",
    "    0  \\\\ \n",
    "    1   \n",
    " \\end{bmatrix}\n",
    "\\right) = \\frac{|0\\rangle + |1\\rangle}{\\sqrt{2}}$\n",
    "\n",
    "$|+\\rangle$ and $|-\\rangle$ are located on the equator of the Bloch sphere, halfway between $|0\\rangle$ and $|1\\rangle$ having a probability of 50%.\n",
    "\n",
    "![Block Sphere H](./BlochSphereHKet0_2.png)\n",
    "\n",
    "The circuit symbol for the Hadamard gate is: ![H Gate](./HGate.png)\n",
    "\n",
    "\n",
    "Expanding the application of the Hadamard gate to $n$ qubits with $2^n$ observable states:\n",
    "\n",
    "$\\ket{\\psi} = \\frac{\\ket{0 \\ldots 000} + \\ket{0 \\ldots 001} + \\ldots + \\ket{1 \\ldots 111}}{\\sqrt{2^n}}$\n",
    "\n",
    "\n"
   ]
  },
  {
   "cell_type": "markdown",
   "metadata": {},
   "source": [
    "## Operators\n",
    "\n",
    "An operator is a function that maps linearly from one value to another value in complex space.\n",
    "\n",
    "Gates could be described as operators.\n",
    "\n",
    "A function is a linear map if it preserves addition and multiplication.\n",
    "\n",
    "$f(u+v) = f(u) + f(v)$\n",
    "\n",
    "also:\n",
    "\n",
    "$f(c \\times u) = c \\times f(u)$\n"
   ]
  },
  {
   "cell_type": "markdown",
   "metadata": {},
   "source": [
    "## Controlled NOT Gate\n",
    "\n",
    "Controlled-Not gate (CNOT) is analogous to the XOR gate (Exclusive OR) in classical computing.\n",
    "\n",
    "In classical computing:\n",
    "\n",
    "- the XOR operation takes two inputs\n",
    "- if both of the inputs are 1, then the output is 0; otherwise the result is unaffected\n",
    "\n",
    "Truth table for XOR:\n",
    "\n",
    "$\\begin{array}{ccc} A & B & A \\oplus B \\\\ \\hline 0 & 0 & 0 \\\\ 0 & 1 & 1 \\\\ 1 & 0 & 1 \\\\ 1 & 1 & 0 \\end{array}$\n",
    "\n",
    "Quantum Controlled NOT (CNOT) Gate:\n",
    "\n",
    "- two inputs and two outputs\n",
    "- target input is negated only if the control input is 1\n",
    "- if control is 0, the result is unaffected\n",
    "\n",
    "![CNOT Gate](./CnotGate.png)\n",
    "\n",
    "Truth Table for the CNOT Gate:\n",
    "\n",
    "$\\begin{array}{cc|cc} \\rlap{In} & & \\rlap{Out} & \\\\ \\hline Control & Target & Control & Target \\\\ \\hline 0 & 0 & 0 & 0 \\\\ 0 & 1 & 0 & 1 \\\\ 1 & 0 & 1 & 1 \\\\ 1 & 1 & 1 & 0 \\end{array}$\n",
    "\n",
    "The target output column of CNOT corresponds to the $A \\oplus B$ column in XOR.\n",
    "\n",
    "- CNOT has two inputs and two outputs, thus it is a $2^{inputCount} \\times 2^{outputCounts} = 4 \\times 4$ matrix.\n",
    "\n",
    "$CNOT = \\begin{bmatrix} 1 & 0 & 0 & 0 \\\\ 0 & 1 & 0 & 0 \\\\ 0 & 0 & 0 & 1 \\\\ 0 & 0 & 1 & 0 \\end{bmatrix}$\n",
    "\n",
    "Examples:\n",
    "\n",
    "$CNOT \\ket{00} = \\begin{bmatrix} 1 & 0 & 0 & 0 \\\\ 0 & 1 & 0 & 0 \\\\ 0 & 0 & 0 & 1 \\\\ 0 & 0 & 1 & 0 \\end{bmatrix} \\begin{bmatrix} 1 \\\\ 0 \\\\ 0 \\\\ 0 \\end{bmatrix} = \\begin{bmatrix} 1 \\\\ 0 \\\\ 0 \\\\ 0 \\end{bmatrix} = \\ket{00}$\n",
    "\n",
    "$CNOT \\ket{10} = \\begin{bmatrix} 1 & 0 & 0 & 0 \\\\ 0 & 1 & 0 & 0 \\\\ 0 & 0 & 0 & 1 \\\\ 0 & 0 & 1 & 0 \\end{bmatrix} \\begin{bmatrix} 0 \\\\ 0 \\\\ 1 \\\\ 0 \\end{bmatrix} = \\begin{bmatrix} 0 \\\\ 0 \\\\ 0 \\\\ 1 \\end{bmatrix} = \\ket{11}$\n",
    "\n"
   ]
  },
  {
   "cell_type": "markdown",
   "metadata": {},
   "source": [
    "## Bell States\n",
    "\n",
    "Four different Bell States:\n",
    "\n",
    "$\\ket{\\Phi^-} = \\frac{\\ket{00} - \\ket{11}}{\\sqrt{2}}$\n",
    "\n",
    "$\\ket{\\Phi^-} = \\frac{\\ket{00} - \\ket{11}}{\\sqrt{2}}$\n",
    "\n",
    "$\\ket{\\Psi^+} = \\frac{\\ket{01} + \\ket{10}}{\\sqrt{2}}$\n",
    "\n",
    "$\\ket{\\Psi^-} = \\frac{\\ket{01} - \\ket{10}}{\\sqrt{2}}$\n",
    "\n",
    "This is based on the four different basis states and the permutation of the $+$ or $-$ operation.\n",
    "\n",
    "![Bell State](./HCnot.png)\n",
    "\n"
   ]
  }
 ],
 "metadata": {
  "kernelspec": {
   "display_name": "Python 3",
   "language": "python",
   "name": "python3"
  },
  "language_info": {
   "codemirror_mode": {
    "name": "ipython",
    "version": 3
   },
   "file_extension": ".py",
   "mimetype": "text/x-python",
   "name": "python",
   "nbconvert_exporter": "python",
   "pygments_lexer": "ipython3",
   "version": "3.12.3"
  }
 },
 "nbformat": 4,
 "nbformat_minor": 2
}
