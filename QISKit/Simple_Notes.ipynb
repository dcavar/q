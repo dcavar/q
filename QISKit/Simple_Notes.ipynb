{
 "cells": [
  {
   "cell_type": "markdown",
   "metadata": {},
   "source": [
    "# Some Qiskit Notes\n",
    "\n",
    "&copy; 2024 by Damir Cavar\n",
    "\n"
   ]
  },
  {
   "cell_type": "markdown",
   "metadata": {},
   "source": [
    "Initializing qubits:\n",
    "\n",
    "In Qiskit qubits are set per default to the 0 state.\n",
    "\n",
    "To change the state of a qubit apply the X-Gate to the qubit.\n",
    "\n"
   ]
  }
 ],
 "metadata": {
  "language_info": {
   "name": "python"
  }
 },
 "nbformat": 4,
 "nbformat_minor": 2
}
