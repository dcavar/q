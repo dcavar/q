{
 "cells": [
  {
   "cell_type": "markdown",
   "metadata": {},
   "source": [
    "# Random Number Generator on a Local Simulator\n",
    "\n",
    "&copy; 2024 by [Damir Cavar](http://damir.cavar.me/)\n",
    "\n",
    "This is an example of a random number generator using two quantum bits and a Bell circuit.\n",
    "\n",
    "Prerequisites can be installed using the following code:"
   ]
  },
  {
   "cell_type": "code",
   "execution_count": null,
   "metadata": {},
   "outputs": [],
   "source": [
    "!pip install -U qiskit\n",
    "!pip install -U qiskit_ibm_provider"
   ]
  },
  {
   "cell_type": "markdown",
   "metadata": {},
   "source": [
    "# Local Simulated Random Generator\n",
    "\n",
    "We need to following imports:"
   ]
  },
  {
   "cell_type": "code",
   "execution_count": 1,
   "metadata": {},
   "outputs": [],
   "source": [
    "from qiskit import transpile\n",
    "from qiskit.circuit import QuantumCircuit, QuantumRegister, ClassicalRegister\n",
    "from qiskit.transpiler.preset_passmanagers import generate_preset_pass_manager\n",
    "from qiskit_ibm_runtime.fake_provider import FakeManilaV2"
   ]
  },
  {
   "cell_type": "markdown",
   "metadata": {},
   "source": [
    "We define a circuit with "
   ]
  },
  {
   "cell_type": "code",
   "execution_count": 2,
   "metadata": {},
   "outputs": [
    {
     "data": {
      "text/plain": [
       "<qiskit.circuit.instructionset.InstructionSet at 0x7dc662667a90>"
      ]
     },
     "execution_count": 2,
     "metadata": {},
     "output_type": "execute_result"
    }
   ],
   "source": [
    "q = QuantumRegister(2,'q')\n",
    "c = ClassicalRegister(2,'c')\n",
    "circuit = QuantumCircuit(q,c)\n",
    "circuit.h(q)\n",
    "circuit.cx(q[0], q[1])\n",
    "circuit.measure(q,c)"
   ]
  },
  {
   "cell_type": "markdown",
   "metadata": {},
   "source": [
    "Use the `FakeManilaV2` backend:"
   ]
  },
  {
   "cell_type": "code",
   "execution_count": 3,
   "metadata": {},
   "outputs": [],
   "source": [
    "fake_manila = FakeManilaV2()\n",
    "pm = generate_preset_pass_manager(backend=fake_manila, optimization_level=1)"
   ]
  },
  {
   "cell_type": "code",
   "execution_count": 4,
   "metadata": {},
   "outputs": [],
   "source": [
    "isa_qc = pm.run(circuit)"
   ]
  },
  {
   "cell_type": "markdown",
   "metadata": {},
   "source": [
    "We can print and visualize the circuit:"
   ]
  },
  {
   "cell_type": "code",
   "execution_count": 5,
   "metadata": {},
   "outputs": [
    {
     "name": "stdout",
     "output_type": "stream",
     "text": [
      "global phase: π/2\n",
      "               ┌─────────┐┌────┐┌─────────┐     ┌─┐   \n",
      "      q_0 -> 0 ┤ Rz(π/2) ├┤ √X ├┤ Rz(π/2) ├──■──┤M├───\n",
      "               ├─────────┤├────┤├─────────┤┌─┴─┐└╥┘┌─┐\n",
      "      q_1 -> 1 ┤ Rz(π/2) ├┤ √X ├┤ Rz(π/2) ├┤ X ├─╫─┤M├\n",
      "               └─────────┘└────┘└─────────┘└───┘ ║ └╥┘\n",
      "ancilla_0 -> 2 ──────────────────────────────────╫──╫─\n",
      "                                                 ║  ║ \n",
      "ancilla_1 -> 3 ──────────────────────────────────╫──╫─\n",
      "                                                 ║  ║ \n",
      "ancilla_2 -> 4 ──────────────────────────────────╫──╫─\n",
      "                                                 ║  ║ \n",
      "          c: 2/══════════════════════════════════╩══╩═\n",
      "                                                 0  1 \n"
     ]
    }
   ],
   "source": [
    "print(isa_qc)"
   ]
  },
  {
   "cell_type": "markdown",
   "metadata": {},
   "source": [
    "Define the circuit and create a 100 shot job:"
   ]
  },
  {
   "cell_type": "code",
   "execution_count": 6,
   "metadata": {},
   "outputs": [
    {
     "name": "stderr",
     "output_type": "stream",
     "text": [
      "/home/damir/.local/lib/python3.11/site-packages/qiskit_ibm_runtime/fake_provider/fake_backend.py:360: RuntimeWarning: Aer not found using BasicAer and no noise\n",
      "  warnings.warn(\"Aer not found using BasicAer and no noise\", RuntimeWarning)\n"
     ]
    }
   ],
   "source": [
    "new_circuit = transpile(circuit, fake_manila)\n",
    "job = fake_manila.run(new_circuit, shots=100)"
   ]
  },
  {
   "cell_type": "markdown",
   "metadata": {},
   "source": [
    "Print the result:"
   ]
  },
  {
   "cell_type": "code",
   "execution_count": 7,
   "metadata": {},
   "outputs": [
    {
     "name": "stdout",
     "output_type": "stream",
     "text": [
      "Result: Result(backend_name='basic_simulator', backend_version='0.1', qobj_id='b7443040-e2ad-4ffa-819f-d9291c3d2d85', job_id='b1a5dd26-3ed0-4e09-89cc-5882a2ef5c41', success=True, results=[ExperimentResult(shots=100, success=True, meas_level=2, data=ExperimentResultData(counts={'0x1': 23, '0x0': 32, '0x3': 20, '0x2': 25}), header=QobjExperimentHeader(qubit_labels=[['q', 0], ['q', 1], ['q', 2], ['q', 3], ['q', 4]], n_qubits=5, qreg_sizes=[['q', 5]], clbit_labels=[['c', 0], ['c', 1]], memory_slots=2, creg_sizes=[['c', 2]], name='circuit-158', global_phase=1.5707963267948966, metadata={}), status=DONE, name='circuit-158', seed_simulator=2025587892, time_taken=0.0010616779327392578)], date=None, status=COMPLETED, header=QobjHeader(backend_name='basic_simulator', backend_version='0.1'), time_taken=0.0010709762573242188)\n"
     ]
    }
   ],
   "source": [
    "res = job.result()\n",
    "print('Result:', res)"
   ]
  },
  {
   "cell_type": "markdown",
   "metadata": {},
   "source": [
    "(C) 2024 by [Damir Cavar](http://damir.cavar.me/)"
   ]
  }
 ],
 "metadata": {
  "kernelspec": {
   "display_name": "Python 3",
   "language": "python",
   "name": "python3"
  },
  "language_info": {
   "codemirror_mode": {
    "name": "ipython",
    "version": 3
   },
   "file_extension": ".py",
   "mimetype": "text/x-python",
   "name": "python",
   "nbconvert_exporter": "python",
   "pygments_lexer": "ipython3",
   "version": "3.12.2"
  }
 },
 "nbformat": 4,
 "nbformat_minor": 2
}
