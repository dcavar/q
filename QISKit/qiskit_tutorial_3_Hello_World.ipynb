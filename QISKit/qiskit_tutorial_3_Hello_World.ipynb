{
 "cells": [
  {
   "cell_type": "markdown",
   "metadata": {},
   "source": [
    "# Qiskit 1.x Tutorial 3 Hello World\n",
    "\n",
    "&copy; 2024 by [Damir Cavar](http://damir.cavar.me/)\n",
    "\n",
    "\n",
    "This tutorial and example code is based on the Qiskit 1.x tutorial videos.\n",
    "\n",
    "- [Tutorial 3: Hello World](https://youtu.be/93-zLTppFZw)\n",
    "\n",
    "It describes the Hello World example implementation on a 2-qubit Bell state."
   ]
  },
  {
   "cell_type": "markdown",
   "metadata": {},
   "source": [
    "Install the necessary Qiskit packages for the tutorials using:"
   ]
  },
  {
   "cell_type": "raw",
   "metadata": {
    "vscode": {
     "languageId": "raw"
    }
   },
   "source": [
    "!pip install -U --user qiskit\n",
    "!pip install -U --user qiskit_ibm_runtime\n",
    "!pip install -U --user qiskit_aer\n",
    "!pip install -U --user matplotlib\n",
    "!pip install -U --user pylatexenc"
   ]
  },
  {
   "cell_type": "markdown",
   "metadata": {},
   "source": [
    "The following imports the Qiskit Python module and a local file called `secret.py`. In the `secret.py` file I tend to store my API key. It is excluded from the repo via an entry in the file `.gitignore`."
   ]
  },
  {
   "cell_type": "code",
   "execution_count": 11,
   "metadata": {},
   "outputs": [],
   "source": [
    "import qiskit\n",
    "import secret"
   ]
  },
  {
   "cell_type": "markdown",
   "metadata": {},
   "source": [
    "## Generating the Bell state\n",
    "\n",
    "We apply the [Hadamard gate](https://docs.quantum.ibm.com/api/qiskit/qiskit.circuit.library.HGate) on the first qubit and the [CX gate](https://docs.quantum.ibm.com/api/qiskit/qiskit.circuit.QuantumCircuit#cx) (or CNOT gate) to the first and second qubits.\n",
    "\n",
    "Creating a quantum circuit with 2 qubits:"
   ]
  },
  {
   "cell_type": "code",
   "execution_count": 12,
   "metadata": {},
   "outputs": [],
   "source": [
    "qc = qiskit.QuantumCircuit(2)"
   ]
  },
  {
   "cell_type": "markdown",
   "metadata": {},
   "source": [
    "The first qubit is put into a superposition by applying the [Hadamard gate](https://docs.quantum.ibm.com/api/qiskit/qiskit.circuit.library.HGate). Executing the single qubit [Hadamard gate](https://docs.quantum.ibm.com/api/qiskit/qiskit.circuit.library.HGate) on the first qubit:"
   ]
  },
  {
   "cell_type": "code",
   "execution_count": 13,
   "metadata": {},
   "outputs": [
    {
     "data": {
      "text/plain": [
       "<qiskit.circuit.instructionset.InstructionSet at 0x1fd295c1e40>"
      ]
     },
     "execution_count": 13,
     "metadata": {},
     "output_type": "execute_result"
    }
   ],
   "source": [
    "qc.h(0)"
   ]
  },
  {
   "cell_type": "markdown",
   "metadata": {},
   "source": [
    "The [CX gate](https://docs.quantum.ibm.com/api/qiskit/qiskit.circuit.QuantumCircuit#cx) uses the first qubit as a control qubit and the second as the target qubit."
   ]
  },
  {
   "cell_type": "code",
   "execution_count": 14,
   "metadata": {},
   "outputs": [
    {
     "data": {
      "text/plain": [
       "<qiskit.circuit.instructionset.InstructionSet at 0x1fd295fa710>"
      ]
     },
     "execution_count": 14,
     "metadata": {},
     "output_type": "execute_result"
    }
   ],
   "source": [
    "qc.cx(0, 1)"
   ]
  },
  {
   "cell_type": "markdown",
   "metadata": {},
   "source": [
    "We can draw the circuit using the following [QuantumCircuit draw](https://docs.quantum.ibm.com/api/qiskit/qiskit.circuit.QuantumCircuit#draw) function:"
   ]
  },
  {
   "cell_type": "code",
   "execution_count": 15,
   "metadata": {},
   "outputs": [
    {
     "data": {
      "image/png": "[encoded data removed]",
      "text/plain": [
       "<Figure size 287.294x200.667 with 1 Axes>"
      ]
     },
     "metadata": {},
     "output_type": "display_data"
    }
   ],
   "source": [
    "x = qc.draw(output='mpl')"
   ]
  },
  {
   "cell_type": "markdown",
   "metadata": {},
   "source": [
    "What does this mean? The Bell state is a specific type of an entangled quantum state with two qubits. Quoting [Pennylane](https://pennylane.ai/qml/glossary/what-are-bell-states/): \"Bell states are quantum states of two qubits that represent simple examples of quantum entanglement. When one of the two qubits is measured, it takes on a specific value, and the second qubit is forced to also take on a specific value, as the entangled state collapses. (...) If qubit `x` starts with a state of `|0⟩`, the Hadamard gate puts it into a superposition of `|0⟩` and `|1⟩`. The CNOT gate flips qubit `y` depending on the state of qubit `x`, but since qubit `x` is in a superposition of `|0⟩` and `|1⟩` this makes the final state of qubit `y` dependent on what the final state of qubit `x` turns out to be — thus the two qubits are part of an entangled state.\""
   ]
  },
  {
   "cell_type": "markdown",
   "metadata": {},
   "source": [
    "## Observables\n",
    "\n",
    "Measurements in the basis of [Pauli operators](https://docs.quantum.ibm.com/api/qiskit/qiskit.quantum_info.Pauli#pauli) for observables correspond to measuring certain physical properties of qubits, such as their state in the X, Y, or Z direction. I is the identity operator."
   ]
  },
  {
   "cell_type": "code",
   "execution_count": 16,
   "metadata": {},
   "outputs": [],
   "source": [
    "from qiskit.quantum_info import Pauli"
   ]
  },
  {
   "cell_type": "markdown",
   "metadata": {},
   "source": [
    "We are creating operators and encoding for each qubit the the operator applied to it. In our case we got two qubits:"
   ]
  },
  {
   "cell_type": "code",
   "execution_count": 21,
   "metadata": {},
   "outputs": [],
   "source": [
    "ZZ = Pauli('ZZ')\n",
    "ZI = Pauli('ZI')\n",
    "IZ = Pauli('IZ')\n",
    "XX = Pauli('XX')\n",
    "XI = Pauli('XI')\n",
    "IX = Pauli('IX')\n",
    "observables = [ZZ, ZI, IZ, XX, XI, IX]"
   ]
  },
  {
   "cell_type": "markdown",
   "metadata": {},
   "source": [
    "What do the Pauli operators do?\n",
    "\n",
    "Applied to a single qubit:\n",
    "\n",
    "- X is the Bit-Flip Operator: swapping the amplitudes of the `|0>` and `|1>` states. `|0>` becomes `|1>` and `|1>` becomes `|0>`.\n",
    "- Y is the Phase-Flip Operator: swapping the amplitudes of the `|0⟩` and `|1⟩` states and adding a phase factor of `i`. If the qubit is in state `|0⟩`, it will be transformed to `i∣1⟩`, and if it is in state `|1⟩`, it will be transformed to `−i∣0⟩`. (`i` is the imaginary unit, meaning, `|0>` is flipped to `|1>` and then multiplied with `i` resulting in a `90`-degree phase shift in the [Complex Plane](https://en.wikipedia.org/wiki/Complex_plane). For `|1>` is flipped to `|0>` and multiplied with `-i` resulting in a `-90`-degree phase shift in the [Complex Plane](https://en.wikipedia.org/wiki/Complex_plane).)\n",
    "- Z is the Phase Operator: changing the sign of the amplitude of the `|1⟩` state while leaving the `|0⟩` state unchanged.\n",
    "A qubit in state `|0⟩` remains in `|0⟩`. A qubit in state `|1⟩` is transformed to `−∣1⟩`.\n",
    "- I is the identity operator, leaving the qubit in the state it is.\n",
    "\n"
   ]
  },
  {
   "cell_type": "markdown",
   "metadata": {},
   "source": [
    "## Optimization\n",
    "\n",
    "NA\n"
   ]
  },
  {
   "cell_type": "markdown",
   "metadata": {},
   "source": [
    "## Execution\n",
    "\n",
    "Here we will be using the [Qiskit Aer](https://qiskit.github.io/qiskit-aer/) quantum computing simulator. [Aer](https://qiskit.github.io/qiskit-aer/) comes with realistic noise models and can be set to run via [CUDA](https://developer.nvidia.com/cuda-toolkit) on GPUs. See for more details: [qiskit-aer on GitHub](https://github.com/Qiskit/qiskit-aer)."
   ]
  },
  {
   "cell_type": "code",
   "execution_count": 18,
   "metadata": {},
   "outputs": [],
   "source": [
    "from qiskit_aer.primitives import Estimator"
   ]
  },
  {
   "cell_type": "markdown",
   "metadata": {},
   "source": [
    "We instantiate an Estimator:"
   ]
  },
  {
   "cell_type": "code",
   "execution_count": 19,
   "metadata": {},
   "outputs": [],
   "source": [
    "estimator = Estimator()"
   ]
  },
  {
   "cell_type": "markdown",
   "metadata": {},
   "source": [
    "We run the estimator on six quantum circuits for the six observables, a quantum circuit for each:"
   ]
  },
  {
   "cell_type": "code",
   "execution_count": 23,
   "metadata": {},
   "outputs": [],
   "source": [
    "job = estimator.run([qc] * len(observables), observables)"
   ]
  },
  {
   "cell_type": "markdown",
   "metadata": {},
   "source": [
    "We print the results:"
   ]
  },
  {
   "cell_type": "code",
   "execution_count": 24,
   "metadata": {},
   "outputs": [
    {
     "data": {
      "text/plain": [
       "EstimatorResult(values=array([ 1.       ,  0.0078125,  0.0078125,  1.       , -0.0390625,\n",
       "       -0.0390625]), metadata=[{'shots': 1024, 'variance': 0.0, 'simulator_metadata': [{'batched_shots_optimization': False, 'required_memory_mb': 0, 'method': 'stabilizer', 'active_input_qubits': [0, 1], 'device': 'CPU', 'remapped_qubits': False, 'num_qubits': 2, 'num_clbits': 2, 'time_taken': 0.0044942, 'sample_measure_time': 0.0009563, 'input_qubit_map': [[0, 0], [1, 1]], 'max_memory_mb': 114595, 'measure_sampling': True, 'noise': 'ideal', 'parallel_shots': 1, 'parallel_state_update': 24, 'runtime_parameter_bind': False, 'num_bind_params': 1, 'fusion': {'enabled': False}}]}, {'shots': 1024, 'variance': 0.99993896484375, 'simulator_metadata': [{'batched_shots_optimization': False, 'required_memory_mb': 0, 'method': 'stabilizer', 'active_input_qubits': [0, 1], 'device': 'CPU', 'remapped_qubits': False, 'num_qubits': 2, 'num_clbits': 2, 'time_taken': 0.0044942, 'sample_measure_time': 0.0009563, 'input_qubit_map': [[0, 0], [1, 1]], 'max_memory_mb': 114595, 'measure_sampling': True, 'noise': 'ideal', 'parallel_shots': 1, 'parallel_state_update': 24, 'runtime_parameter_bind': False, 'num_bind_params': 1, 'fusion': {'enabled': False}}]}, {'shots': 1024, 'variance': 0.99993896484375, 'simulator_metadata': [{'batched_shots_optimization': False, 'required_memory_mb': 0, 'method': 'stabilizer', 'active_input_qubits': [0, 1], 'device': 'CPU', 'remapped_qubits': False, 'num_qubits': 2, 'num_clbits': 2, 'time_taken': 0.0044942, 'sample_measure_time': 0.0009563, 'input_qubit_map': [[0, 0], [1, 1]], 'max_memory_mb': 114595, 'measure_sampling': True, 'noise': 'ideal', 'parallel_shots': 1, 'parallel_state_update': 24, 'runtime_parameter_bind': False, 'num_bind_params': 1, 'fusion': {'enabled': False}}]}, {'shots': 1024, 'variance': 0.0, 'simulator_metadata': [{'batched_shots_optimization': False, 'required_memory_mb': 0, 'method': 'stabilizer', 'active_input_qubits': [0, 1], 'device': 'CPU', 'remapped_qubits': False, 'num_qubits': 2, 'num_clbits': 2, 'time_taken': 0.0052631, 'sample_measure_time': 0.0014654, 'input_qubit_map': [[0, 0], [1, 1]], 'max_memory_mb': 114595, 'measure_sampling': True, 'noise': 'ideal', 'parallel_shots': 1, 'parallel_state_update': 24, 'runtime_parameter_bind': False, 'num_bind_params': 1, 'fusion': {'enabled': False}}]}, {'shots': 1024, 'variance': 0.99847412109375, 'simulator_metadata': [{'batched_shots_optimization': False, 'required_memory_mb': 0, 'method': 'stabilizer', 'active_input_qubits': [0, 1], 'device': 'CPU', 'remapped_qubits': False, 'num_qubits': 2, 'num_clbits': 2, 'time_taken': 0.0052631, 'sample_measure_time': 0.0014654, 'input_qubit_map': [[0, 0], [1, 1]], 'max_memory_mb': 114595, 'measure_sampling': True, 'noise': 'ideal', 'parallel_shots': 1, 'parallel_state_update': 24, 'runtime_parameter_bind': False, 'num_bind_params': 1, 'fusion': {'enabled': False}}]}, {'shots': 1024, 'variance': 0.99847412109375, 'simulator_metadata': [{'batched_shots_optimization': False, 'required_memory_mb': 0, 'method': 'stabilizer', 'active_input_qubits': [0, 1], 'device': 'CPU', 'remapped_qubits': False, 'num_qubits': 2, 'num_clbits': 2, 'time_taken': 0.0052631, 'sample_measure_time': 0.0014654, 'input_qubit_map': [[0, 0], [1, 1]], 'max_memory_mb': 114595, 'measure_sampling': True, 'noise': 'ideal', 'parallel_shots': 1, 'parallel_state_update': 24, 'runtime_parameter_bind': False, 'num_bind_params': 1, 'fusion': {'enabled': False}}]}])"
      ]
     },
     "execution_count": 24,
     "metadata": {},
     "output_type": "execute_result"
    }
   ],
   "source": [
    "job.result()"
   ]
  },
  {
   "cell_type": "markdown",
   "metadata": {},
   "source": [
    "The Estimator computes expectation values of observables with respect to states specified in our quantum circuit. We specified a Bell State circuit and the observables as defined above using the Pauli operators."
   ]
  },
  {
   "cell_type": "markdown",
   "metadata": {},
   "source": [
    "## Plotting the Results\n",
    "\n",
    "Using Matplotlib we need to import:"
   ]
  },
  {
   "cell_type": "code",
   "execution_count": 25,
   "metadata": {},
   "outputs": [],
   "source": [
    "import matplotlib.pyplot as plt"
   ]
  },
  {
   "cell_type": "markdown",
   "metadata": {},
   "source": [
    "The labels for our observables are:"
   ]
  },
  {
   "cell_type": "code",
   "execution_count": 26,
   "metadata": {},
   "outputs": [],
   "source": [
    "data = [\"ZZ\", \"ZI\", \"IZ\", \"XX\", \"XI\", \"IX\"]"
   ]
  },
  {
   "cell_type": "markdown",
   "metadata": {},
   "source": [
    "Specifying the values to be the `job` results:"
   ]
  },
  {
   "cell_type": "code",
   "execution_count": 27,
   "metadata": {},
   "outputs": [],
   "source": [
    "values = job.result().values"
   ]
  },
  {
   "cell_type": "markdown",
   "metadata": {},
   "source": [
    "Plotting the result:"
   ]
  },
  {
   "cell_type": "code",
   "execution_count": 30,
   "metadata": {},
   "outputs": [
    {
     "data": {
      "image/png": "[encoded data removed]",
      "text/plain": [
       "<Figure size 640x480 with 1 Axes>"
      ]
     },
     "metadata": {},
     "output_type": "display_data"
    }
   ],
   "source": [
    "plt.plot(data, values, '-o')\n",
    "plt.xlabel('Observables')\n",
    "plt.ylabel('Expectation value')\n",
    "plt.show()"
   ]
  }
 ],
 "metadata": {
  "kernelspec": {
   "display_name": "Python 3",
   "language": "python",
   "name": "python3"
  },
  "language_info": {
   "codemirror_mode": {
    "name": "ipython",
    "version": 3
   },
   "file_extension": ".py",
   "mimetype": "text/x-python",
   "name": "python",
   "nbconvert_exporter": "python",
   "pygments_lexer": "ipython3",
   "version": "3.12.3"
  }
 },
 "nbformat": 4,
 "nbformat_minor": 2
}
