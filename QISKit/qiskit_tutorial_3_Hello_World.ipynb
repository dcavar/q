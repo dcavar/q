{
 "cells": [
  {
   "cell_type": "markdown",
   "metadata": {},
   "source": [
    "# Qiskit 1.x Tutorial 3 Hello World\n",
    "\n",
    "&copy; 2024 by [Damir Cavar](http://damir.cavar.me/)\n",
    "\n",
    "\n",
    "This tutorial and example code is based on the Qiskit 1.x tutorial videos.\n",
    "\n",
    "- [Tutorial 3: Hello World](https://youtu.be/93-zLTppFZw)\n",
    "\n",
    "It describes the Hello World example implementation on a 2-qubit Bell state."
   ]
  },
  {
   "cell_type": "markdown",
   "metadata": {},
   "source": [
    "Install the necessary Qiskit packages for the tutorials using:"
   ]
  },
  {
   "cell_type": "code",
   "execution_count": null,
   "metadata": {},
   "outputs": [],
   "source": [
    "!pip install -U --user qiskit\n",
    "!pip install -U --user qiskit_ibm_runtime\n",
    "!pip install -U --user qiskit_aer\n",
    "!pip install -U --user matplotlib\n",
    "!pip install -U --user pylatexenc"
   ]
  },
  {
   "cell_type": "markdown",
   "metadata": {},
   "source": [
    "The following imports the Qiskit Python module and a local file called `secret.py`. In the `secret.py` file I tend to store my API key. It is excluded from the repo via an entry in the file `.gitignore`."
   ]
  },
  {
   "cell_type": "code",
   "execution_count": 10,
   "metadata": {},
   "outputs": [],
   "source": [
    "import qiskit\n",
    "import secret"
   ]
  },
  {
   "cell_type": "markdown",
   "metadata": {},
   "source": [
    "The following import enables the Qiskit runtime service using `ibm_quantum` to communicate with the IBM Quantum computer. To be able to use the service you need an account with [IBM Quantum](https://quantum.ibm.com/) and the API token."
   ]
  },
  {
   "cell_type": "code",
   "execution_count": 11,
   "metadata": {},
   "outputs": [],
   "source": [
    "from qiskit_ibm_runtime import QiskitRuntimeService"
   ]
  },
  {
   "cell_type": "markdown",
   "metadata": {},
   "source": [
    "In the following code box we connect to the IBM Quantum service using our API token:"
   ]
  },
  {
   "cell_type": "code",
   "execution_count": 4,
   "metadata": {},
   "outputs": [],
   "source": [
    "service = QiskitRuntimeService(channel=\"ibm_quantum\", # or ibm_cloud\n",
    "                               token=secret.api_key_ibm_q)"
   ]
  },
  {
   "cell_type": "markdown",
   "metadata": {},
   "source": [
    "To save the account information locally in the Python and Qiskit environment so that one does not need to provide it anymore during coding sessions, run this:"
   ]
  },
  {
   "cell_type": "code",
   "execution_count": 5,
   "metadata": {},
   "outputs": [],
   "source": [
    "QiskitRuntimeService.save_account(channel=\"ibm_quantum\",\n",
    "                                  token=secret.api_key_ibm_q)"
   ]
  },
  {
   "cell_type": "markdown",
   "metadata": {},
   "source": [
    "The code above will store the API token in your local Python environment, either in your account or a `virtualenv` environment."
   ]
  },
  {
   "cell_type": "markdown",
   "metadata": {},
   "source": [
    "The following code establishes a connection to one of the IBM Quantum computers. On your IBM Quantum Platform select Systems in the menu and check out the different servers available to you."
   ]
  },
  {
   "cell_type": "code",
   "execution_count": 6,
   "metadata": {},
   "outputs": [],
   "source": [
    "backend = service.backend(name=\"ibm_brisbane\")"
   ]
  },
  {
   "cell_type": "markdown",
   "metadata": {},
   "source": [
    "## Generating the Bell state\n",
    "\n",
    "We apply the [Hadamard gate](https://docs.quantum.ibm.com/api/qiskit/qiskit.circuit.library.HGate) on the first qubit and the [CX gate](https://docs.quantum.ibm.com/api/qiskit/qiskit.circuit.QuantumCircuit#cx) (or CNOT gate) to the first and second qubits.\n",
    "\n",
    "Creating a quantum circuit with 2 qubits:"
   ]
  },
  {
   "cell_type": "code",
   "execution_count": 3,
   "metadata": {},
   "outputs": [],
   "source": [
    "qc = qiskit.QuantumCircuit(2)"
   ]
  },
  {
   "cell_type": "markdown",
   "metadata": {},
   "source": [
    "The first qubit is put into a superposition by applying the [Hadamard gate](https://docs.quantum.ibm.com/api/qiskit/qiskit.circuit.library.HGate). Executing the single qubit [Hadamard gate](https://docs.quantum.ibm.com/api/qiskit/qiskit.circuit.library.HGate) on the first qubit:"
   ]
  },
  {
   "cell_type": "code",
   "execution_count": 4,
   "metadata": {},
   "outputs": [
    {
     "data": {
      "text/plain": [
       "<qiskit.circuit.instructionset.InstructionSet at 0x2a5ff7ca140>"
      ]
     },
     "execution_count": 4,
     "metadata": {},
     "output_type": "execute_result"
    }
   ],
   "source": [
    "qc.h(0)"
   ]
  },
  {
   "cell_type": "markdown",
   "metadata": {},
   "source": [
    "The [CX gate](https://docs.quantum.ibm.com/api/qiskit/qiskit.circuit.QuantumCircuit#cx) uses the first qubit as a control qubit and the second as the target qubit."
   ]
  },
  {
   "cell_type": "code",
   "execution_count": 5,
   "metadata": {},
   "outputs": [
    {
     "data": {
      "text/plain": [
       "<qiskit.circuit.instructionset.InstructionSet at 0x2a5ff5061d0>"
      ]
     },
     "execution_count": 5,
     "metadata": {},
     "output_type": "execute_result"
    }
   ],
   "source": [
    "qc.cx(0, 1)"
   ]
  },
  {
   "cell_type": "markdown",
   "metadata": {},
   "source": [
    "We can draw the circuit using the following [QuantumCircuit draw](https://docs.quantum.ibm.com/api/qiskit/qiskit.circuit.QuantumCircuit#draw) function:"
   ]
  },
  {
   "cell_type": "code",
   "execution_count": 8,
   "metadata": {},
   "outputs": [
    {
     "data": {
      "image/png": "[encoded data removed]",
      "text/plain": [
       "<Figure size 287.294x200.667 with 1 Axes>"
      ]
     },
     "metadata": {},
     "output_type": "display_data"
    }
   ],
   "source": [
    "x = qc.draw(output='mpl')"
   ]
  },
  {
   "cell_type": "markdown",
   "metadata": {},
   "source": [
    "What does this mean? The Bell state is a specific type of an entangled quantum state with two qubits. Quoting [Pennylane](https://pennylane.ai/qml/glossary/what-are-bell-states/): \"Bell states are quantum states of two qubits that represent simple examples of quantum entanglement. When one of the two qubits is measured, it takes on a specific value, and the second qubit is forced to also take on a specific value, as the entangled state collapses. (...) If qubit `x` starts with a state of `|0⟩`, the Hadamard gate puts it into a superposition of `|0⟩` and `|1⟩`. The CNOT gate flips qubit `y` depending on the state of qubit `x`, but since qubit `x` is in a superposition of `|0⟩` and `|1⟩` this makes the final state of qubit `y` dependent on what the final state of qubit `x` turns out to be — thus the two qubits are part of an entangled state.\""
   ]
  },
  {
   "cell_type": "code",
   "execution_count": null,
   "metadata": {},
   "outputs": [],
   "source": []
  }
 ],
 "metadata": {
  "kernelspec": {
   "display_name": "Python 3",
   "language": "python",
   "name": "python3"
  },
  "language_info": {
   "codemirror_mode": {
    "name": "ipython",
    "version": 3
   },
   "file_extension": ".py",
   "mimetype": "text/x-python",
   "name": "python",
   "nbconvert_exporter": "python",
   "pygments_lexer": "ipython3",
   "version": "3.12.3"
  }
 },
 "nbformat": 4,
 "nbformat_minor": 2
}
