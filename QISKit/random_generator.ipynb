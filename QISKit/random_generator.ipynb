{
 "cells": [
  {
   "cell_type": "markdown",
   "metadata": {},
   "source": [
    "# Qiskit Examples\n",
    "\n",
    "&copy; 2024 by [Damir Cavar](http://damir.cavar.me/)\n",
    "\n",
    "The following examples should work with [`qiskit` 1.0.x](https://docs.quantum.ibm.com/start/install). You have to create a file `secret.py` and declare the variable `api_key_ibm_q` in it:\n",
    "\n",
    "    api_key_ibm_q = \"92834787463912348790123749827349712394\"\n",
    "\n",
    "Replace the digits between the double quotes with your API token.\n",
    "\n",
    "For tutorials and examples see the [Qiskit Community Tutorials](https://github.com/qiskit-community/qiskit-community-tutorials/tree/master). Those might not be [`Qiskit` 1.x]() compatible. You might need to fix the code.\n",
    "\n",
    "Prerequisites can be installed using the following code:"
   ]
  },
  {
   "cell_type": "code",
   "execution_count": null,
   "metadata": {},
   "outputs": [],
   "source": [
    "!pip install -U qiskit\n",
    "!pip install -U qiskit_ibm_provider"
   ]
  },
  {
   "cell_type": "markdown",
   "metadata": {},
   "source": [
    "# Random Bit Generator"
   ]
  },
  {
   "cell_type": "markdown",
   "metadata": {},
   "source": [
    "The essential imports are listed below:"
   ]
  },
  {
   "cell_type": "code",
   "execution_count": 12,
   "metadata": {},
   "outputs": [],
   "source": [
    "from qiskit import QuantumRegister, ClassicalRegister, QuantumCircuit, transpile\n",
    "from qiskit_ibm_provider import IBMProvider\n",
    "from secret import api_key_ibm_q"
   ]
  },
  {
   "cell_type": "markdown",
   "metadata": {},
   "source": [
    "Register the API token with the IBM Q service:"
   ]
  },
  {
   "cell_type": "code",
   "execution_count": 13,
   "metadata": {},
   "outputs": [],
   "source": [
    "provider = IBMProvider(token=api_key_ibm_q)"
   ]
  },
  {
   "cell_type": "markdown",
   "metadata": {},
   "source": [
    "Get a list of all available backends:"
   ]
  },
  {
   "cell_type": "code",
   "execution_count": 14,
   "metadata": {},
   "outputs": [],
   "source": [
    "backends = provider.backends()"
   ]
  },
  {
   "cell_type": "markdown",
   "metadata": {},
   "source": [
    "Print the list of backends:"
   ]
  },
  {
   "cell_type": "code",
   "execution_count": 15,
   "metadata": {},
   "outputs": [
    {
     "name": "stdout",
     "output_type": "stream",
     "text": [
      "[<IBMBackend('ibmq_qasm_simulator')>, <IBMBackend('simulator_extended_stabilizer')>, <IBMBackend('simulator_mps')>, <IBMBackend('simulator_statevector')>, <IBMBackend('simulator_stabilizer')>, <IBMBackend('ibm_brisbane')>, <IBMBackend('ibm_kyoto')>, <IBMBackend('ibm_osaka')>]\n"
     ]
    }
   ],
   "source": [
    "print(backends)"
   ]
  },
  {
   "cell_type": "markdown",
   "metadata": {},
   "source": [
    "Create a backend with one of the named backends:"
   ]
  },
  {
   "cell_type": "code",
   "execution_count": 17,
   "metadata": {},
   "outputs": [],
   "source": [
    "backend = provider.get_backend('ibm_brisbane')"
   ]
  },
  {
   "cell_type": "markdown",
   "metadata": {},
   "source": [
    "We declare a quantum register and a classical register. The instantiated `circuit` object applias a hadamard gate to all qubits (here set to 1, but set it to any number you might need). Then we apply a measure to the qubits and store the results in the clasical register."
   ]
  },
  {
   "cell_type": "code",
   "execution_count": 18,
   "metadata": {},
   "outputs": [
    {
     "data": {
      "text/plain": [
       "<qiskit.circuit.instructionset.InstructionSet at 0x73fc5a17f430>"
      ]
     },
     "execution_count": 18,
     "metadata": {},
     "output_type": "execute_result"
    }
   ],
   "source": [
    "q = QuantumRegister(1,'q')\n",
    "c = ClassicalRegister(1,'c')\n",
    "circuit = QuantumCircuit(q,c)\n",
    "circuit.h(q)\n",
    "circuit.measure(q,c)"
   ]
  },
  {
   "cell_type": "markdown",
   "metadata": {},
   "source": [
    "In the following we create a circuit for our backend and run it. Define the `shots` and store the per-shot measurement bitstrings in the return."
   ]
  },
  {
   "cell_type": "code",
   "execution_count": 19,
   "metadata": {},
   "outputs": [],
   "source": [
    "new_circuit = transpile(circuit, backend)\n",
    "job = backend.run(new_circuit, shots=1, memory=True)"
   ]
  },
  {
   "cell_type": "markdown",
   "metadata": {},
   "source": [
    "Check the status on a regular basis to pull the result once the computation has finished. You can also use the Dashboard in IBM Quantum to see whether the computation has finished."
   ]
  },
  {
   "cell_type": "code",
   "execution_count": 20,
   "metadata": {},
   "outputs": [
    {
     "name": "stdout",
     "output_type": "stream",
     "text": [
      "True\n",
      "128\n"
     ]
    }
   ],
   "source": [
    "status = backend.status()\n",
    "print(status.operational)\n",
    "print(status.pending_jobs)"
   ]
  },
  {
   "cell_type": "markdown",
   "metadata": {},
   "source": [
    "Pull the result from the quantum endpoint once it is available. If you run this function before the result has been computed, the function will run until the result is available."
   ]
  },
  {
   "cell_type": "code",
   "execution_count": 22,
   "metadata": {},
   "outputs": [
    {
     "name": "stdout",
     "output_type": "stream",
     "text": [
      "Result: Result(backend_name='ibm_brisbane', backend_version='0.0.0', qobj_id='Unknown', job_id='Unknown', success=True, results=[ExperimentResult(shots=1, success=True, meas_level=2, data=ExperimentResultData(counts={'0x0': 1}, memory=['0x0']), header=QobjExperimentHeader(qubit_labels=[['q', 0], ['q', 1], ['q', 2], ['q', 3], ['q', 4], ['q', 5], ['q', 6], ['q', 7], ['q', 8], ['q', 9], ['q', 10], ['q', 11], ['q', 12], ['q', 13], ['q', 14], ['q', 15], ['q', 16], ['q', 17], ['q', 18], ['q', 19], ['q', 20], ['q', 21], ['q', 22], ['q', 23], ['q', 24], ['q', 25], ['q', 26], ['q', 27], ['q', 28], ['q', 29], ['q', 30], ['q', 31], ['q', 32], ['q', 33], ['q', 34], ['q', 35], ['q', 36], ['q', 37], ['q', 38], ['q', 39], ['q', 40], ['q', 41], ['q', 42], ['q', 43], ['q', 44], ['q', 45], ['q', 46], ['q', 47], ['q', 48], ['q', 49], ['q', 50], ['q', 51], ['q', 52], ['q', 53], ['q', 54], ['q', 55], ['q', 56], ['q', 57], ['q', 58], ['q', 59], ['q', 60], ['q', 61], ['q', 62], ['q', 63], ['q', 64], ['q', 65], ['q', 66], ['q', 67], ['q', 68], ['q', 69], ['q', 70], ['q', 71], ['q', 72], ['q', 73], ['q', 74], ['q', 75], ['q', 76], ['q', 77], ['q', 78], ['q', 79], ['q', 80], ['q', 81], ['q', 82], ['q', 83], ['q', 84], ['q', 85], ['q', 86], ['q', 87], ['q', 88], ['q', 89], ['q', 90], ['q', 91], ['q', 92], ['q', 93], ['q', 94], ['q', 95], ['q', 96], ['q', 97], ['q', 98], ['q', 99], ['q', 100], ['q', 101], ['q', 102], ['q', 103], ['q', 104], ['q', 105], ['q', 106], ['q', 107], ['q', 108], ['q', 109], ['q', 110], ['q', 111], ['q', 112], ['q', 113], ['q', 114], ['q', 115], ['q', 116], ['q', 117], ['q', 118], ['q', 119], ['q', 120], ['q', 121], ['q', 122], ['q', 123], ['q', 124], ['q', 125], ['q', 126]], n_qubits=127, qreg_sizes=[['q', 127]], clbit_labels=[['c', 0]], memory_slots=1, creg_sizes=[['c', 1]], name='circuit-165', global_phase=0.7853981633974483, metadata={}), status=done, meas_return=avg)], date=2024-03-29 17:09:10.923808-04:00, status=done, header=QobjHeader(backend_name='ibm_brisbane', backend_version='1.1.22'), execution_id='', time_taken=1.200992854, error=None)\n"
     ]
    }
   ],
   "source": [
    "res = job.result()\n",
    "print('Result:', res)"
   ]
  },
  {
   "cell_type": "markdown",
   "metadata": {},
   "source": [
    "(C) 2024 by [Damir Cavar](http://damir.cavar.me/)"
   ]
  }
 ],
 "metadata": {
  "kernelspec": {
   "display_name": "Python 3",
   "language": "python",
   "name": "python3"
  },
  "language_info": {
   "codemirror_mode": {
    "name": "ipython",
    "version": 3
   },
   "file_extension": ".py",
   "mimetype": "text/x-python",
   "name": "python",
   "nbconvert_exporter": "python",
   "pygments_lexer": "ipython3",
   "version": "3.11.6"
  }
 },
 "nbformat": 4,
 "nbformat_minor": 2
}
