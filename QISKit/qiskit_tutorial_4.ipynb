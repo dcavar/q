{
 "cells": [
  {
   "cell_type": "markdown",
   "metadata": {},
   "source": [
    "# Qiskit Tutorial 4\n",
    "\n",
    "&copy; 2024 by Damir Cavar\n"
   ]
  },
  {
   "cell_type": "markdown",
   "metadata": {},
   "source": [
    "Videos:\n",
    "\n",
    "- [Video 4](https://youtu.be/35ykEg3fG4c)\n",
    "- [Video 5](https://youtu.be/QDPtcwhpQkE)\n",
    "- [Video 6](https://youtu.be/WGlRcZqENkE)\n"
   ]
  }
 ],
 "metadata": {
  "language_info": {
   "name": "python"
  }
 },
 "nbformat": 4,
 "nbformat_minor": 2
}
